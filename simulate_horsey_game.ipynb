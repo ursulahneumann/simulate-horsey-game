{
 "cells": [
  {
   "cell_type": "code",
   "execution_count": 1,
   "metadata": {},
   "outputs": [],
   "source": [
    "# Import statements\n",
    "import numpy as np\n",
    "import pandas as pd\n",
    "from random import randint\n",
    "import matplotlib.pyplot as plt"
   ]
  },
  {
   "cell_type": "code",
   "execution_count": 2,
   "metadata": {},
   "outputs": [],
   "source": [
    "def simulate_scratches():\n",
    "    '''Simulate choosing of scratches, 4 unique values that are the result of the sum of 2 dice'''\n",
    "    \n",
    "    # Define keys to be the scratches for 5/10/15/20 cents\n",
    "    keys = [0.05, 0.1, 0.15, 0.2]\n",
    "    \n",
    "    # Create empty list of values to be populated below\n",
    "    values = []\n",
    "    \n",
    "    # While the length of values is less than 4...\n",
    "    while len(values) < 4:\n",
    "        # Simulate rolling of 2 dice and taking sum\n",
    "        dice = np.random.randint(low = 1, high = 7, size = 2).sum()\n",
    "        # If the summed value is not already in values, append it to the list\n",
    "        if dice not in values:\n",
    "            values.append(dice)\n",
    "    \n",
    "    # Create scratches dictionary\n",
    "    scratches = dict(zip(keys, values))   \n",
    "    \n",
    "    # Print scratches dictionary\n",
    "    print(f\"Scratches are {scratches}\")\n",
    "    return(scratches)"
   ]
  },
  {
   "cell_type": "code",
   "execution_count": 5,
   "metadata": {},
   "outputs": [
    {
     "name": "stdout",
     "output_type": "stream",
     "text": [
      "Scratches are {0.05: 11, 0.1: 9, 0.15: 10, 0.2: 8}\n"
     ]
    }
   ],
   "source": [
    "# Test simulate scratches function\n",
    "scratches = simulate_scratches()"
   ]
  },
  {
   "cell_type": "code",
   "execution_count": 4,
   "metadata": {},
   "outputs": [],
   "source": [
    "def simulate_gameplay():\n",
    "    '''This function simulates gameplay for the horsey game. \n",
    "    \n",
    "       This includes setting the horses to starting line, simulating the scratches, paying \n",
    "       scratches in hand into the pot, each player rolling the die (and either paying into \n",
    "       the pot or moving the horse forward) until one horse reaches the finish line'''\n",
    "    \n",
    "    # Set up racetrack with all horses starting at 0\n",
    "    racetrack = {i:0 for i in range(2,13)}\n",
    "    \n",
    "    # Simulate scratches\n",
    "    scratches = simulate_scratches()\n",
    "    \n",
    "    # Scratches in hand pay into pot (assuming all cards dealt even if uneven between players)\n",
    "    pot = 0.05*4 + 0.10*4 + 0.15*4 + 0.20*4\n",
    "    \n",
    "    # Set keys to be the horse IDs (2 to 12)\n",
    "    keys = range(2,13)\n",
    "    \n",
    "    # Set values to be the number of times each horse must move to reach the finish line\n",
    "    values = [6, 7, 8, 9, 10, 11, 10, 9, 8, 7, 6]\n",
    "    \n",
    "    # Define finish_line dictionary (taking the horse ID and racetrack length)\n",
    "    finish_line = dict(zip(keys, values))\n",
    "    \n",
    "    # Until a horse reaches the finish line...\n",
    "    while True:\n",
    "        # Roll dice\n",
    "        dice = np.random.randint(low = 1, high = 7, size = 2).sum()\n",
    "        print(f\"Roll is {dice}.\")\n",
    "\n",
    "        # If roll is one of the scraches pay into the pot\n",
    "        if dice in scratches.values():\n",
    "            pot += float(list(scratches.keys())[list(scratches.values()).index(dice)])\n",
    "            print(f\"Pot increases to {round(pot, 2)}\")\n",
    "        # Otherwise, move the horse forward 1 spot\n",
    "        else:\n",
    "            racetrack[dice] += 1\n",
    "            print(f\"Racetrack moves {racetrack}\")\n",
    "            # If a horse reaches the finish line, they are the winner and the round ends\n",
    "            if racetrack[dice] == finish_line[dice]:\n",
    "                winner = dice\n",
    "                print(f\"The winner is {winner}\")\n",
    "                break\n",
    "           \n",
    "    # Return horse ID for scraches, horse ID for the winner, and the total pot value\n",
    "    return(scratches[0.05], scratches[0.1], scratches[0.15], scratches[0.2], winner, round(pot, 2))"
   ]
  },
  {
   "cell_type": "code",
   "execution_count": 5,
   "metadata": {},
   "outputs": [
    {
     "name": "stdout",
     "output_type": "stream",
     "text": [
      "Scratches are {0.05: 7, 0.1: 5, 0.15: 6, 0.2: 4}\n",
      "Roll is 5.\n",
      "Pot increases to 2.1\n",
      "Roll is 3.\n",
      "Racetrack moves {2: 0, 3: 1, 4: 0, 5: 0, 6: 0, 7: 0, 8: 0, 9: 0, 10: 0, 11: 0, 12: 0}\n",
      "Roll is 6.\n",
      "Pot increases to 2.25\n",
      "Roll is 8.\n",
      "Racetrack moves {2: 0, 3: 1, 4: 0, 5: 0, 6: 0, 7: 0, 8: 1, 9: 0, 10: 0, 11: 0, 12: 0}\n",
      "Roll is 6.\n",
      "Pot increases to 2.4\n",
      "Roll is 7.\n",
      "Pot increases to 2.45\n",
      "Roll is 8.\n",
      "Racetrack moves {2: 0, 3: 1, 4: 0, 5: 0, 6: 0, 7: 0, 8: 2, 9: 0, 10: 0, 11: 0, 12: 0}\n",
      "Roll is 6.\n",
      "Pot increases to 2.6\n",
      "Roll is 7.\n",
      "Pot increases to 2.65\n",
      "Roll is 6.\n",
      "Pot increases to 2.8\n",
      "Roll is 8.\n",
      "Racetrack moves {2: 0, 3: 1, 4: 0, 5: 0, 6: 0, 7: 0, 8: 3, 9: 0, 10: 0, 11: 0, 12: 0}\n",
      "Roll is 11.\n",
      "Racetrack moves {2: 0, 3: 1, 4: 0, 5: 0, 6: 0, 7: 0, 8: 3, 9: 0, 10: 0, 11: 1, 12: 0}\n",
      "Roll is 3.\n",
      "Racetrack moves {2: 0, 3: 2, 4: 0, 5: 0, 6: 0, 7: 0, 8: 3, 9: 0, 10: 0, 11: 1, 12: 0}\n",
      "Roll is 7.\n",
      "Pot increases to 2.85\n",
      "Roll is 3.\n",
      "Racetrack moves {2: 0, 3: 3, 4: 0, 5: 0, 6: 0, 7: 0, 8: 3, 9: 0, 10: 0, 11: 1, 12: 0}\n",
      "Roll is 7.\n",
      "Pot increases to 2.9\n",
      "Roll is 10.\n",
      "Racetrack moves {2: 0, 3: 3, 4: 0, 5: 0, 6: 0, 7: 0, 8: 3, 9: 0, 10: 1, 11: 1, 12: 0}\n",
      "Roll is 5.\n",
      "Pot increases to 3.0\n",
      "Roll is 4.\n",
      "Pot increases to 3.2\n",
      "Roll is 6.\n",
      "Pot increases to 3.35\n",
      "Roll is 5.\n",
      "Pot increases to 3.45\n",
      "Roll is 5.\n",
      "Pot increases to 3.55\n",
      "Roll is 5.\n",
      "Pot increases to 3.65\n",
      "Roll is 4.\n",
      "Pot increases to 3.85\n",
      "Roll is 4.\n",
      "Pot increases to 4.05\n",
      "Roll is 11.\n",
      "Racetrack moves {2: 0, 3: 3, 4: 0, 5: 0, 6: 0, 7: 0, 8: 3, 9: 0, 10: 1, 11: 2, 12: 0}\n",
      "Roll is 3.\n",
      "Racetrack moves {2: 0, 3: 4, 4: 0, 5: 0, 6: 0, 7: 0, 8: 3, 9: 0, 10: 1, 11: 2, 12: 0}\n",
      "Roll is 4.\n",
      "Pot increases to 4.25\n",
      "Roll is 6.\n",
      "Pot increases to 4.4\n",
      "Roll is 2.\n",
      "Racetrack moves {2: 1, 3: 4, 4: 0, 5: 0, 6: 0, 7: 0, 8: 3, 9: 0, 10: 1, 11: 2, 12: 0}\n",
      "Roll is 3.\n",
      "Racetrack moves {2: 1, 3: 5, 4: 0, 5: 0, 6: 0, 7: 0, 8: 3, 9: 0, 10: 1, 11: 2, 12: 0}\n",
      "Roll is 6.\n",
      "Pot increases to 4.55\n",
      "Roll is 9.\n",
      "Racetrack moves {2: 1, 3: 5, 4: 0, 5: 0, 6: 0, 7: 0, 8: 3, 9: 1, 10: 1, 11: 2, 12: 0}\n",
      "Roll is 4.\n",
      "Pot increases to 4.75\n",
      "Roll is 6.\n",
      "Pot increases to 4.9\n",
      "Roll is 7.\n",
      "Pot increases to 4.95\n",
      "Roll is 7.\n",
      "Pot increases to 5.0\n",
      "Roll is 4.\n",
      "Pot increases to 5.2\n",
      "Roll is 6.\n",
      "Pot increases to 5.35\n",
      "Roll is 8.\n",
      "Racetrack moves {2: 1, 3: 5, 4: 0, 5: 0, 6: 0, 7: 0, 8: 4, 9: 1, 10: 1, 11: 2, 12: 0}\n",
      "Roll is 5.\n",
      "Pot increases to 5.45\n",
      "Roll is 4.\n",
      "Pot increases to 5.65\n",
      "Roll is 9.\n",
      "Racetrack moves {2: 1, 3: 5, 4: 0, 5: 0, 6: 0, 7: 0, 8: 4, 9: 2, 10: 1, 11: 2, 12: 0}\n",
      "Roll is 3.\n",
      "Racetrack moves {2: 1, 3: 6, 4: 0, 5: 0, 6: 0, 7: 0, 8: 4, 9: 2, 10: 1, 11: 2, 12: 0}\n",
      "Roll is 9.\n",
      "Racetrack moves {2: 1, 3: 6, 4: 0, 5: 0, 6: 0, 7: 0, 8: 4, 9: 3, 10: 1, 11: 2, 12: 0}\n",
      "Roll is 3.\n",
      "Racetrack moves {2: 1, 3: 7, 4: 0, 5: 0, 6: 0, 7: 0, 8: 4, 9: 3, 10: 1, 11: 2, 12: 0}\n",
      "The winner is 3\n"
     ]
    },
    {
     "data": {
      "text/plain": [
       "(7, 5, 6, 4, 3, 5.65)"
      ]
     },
     "execution_count": 5,
     "metadata": {},
     "output_type": "execute_result"
    }
   ],
   "source": [
    "# Simulate gameplay\n",
    "simulate_gameplay()"
   ]
  },
  {
   "cell_type": "code",
   "execution_count": 6,
   "metadata": {},
   "outputs": [],
   "source": [
    "%%capture\n",
    "# The magic command above suppresses the printed output of the simulate_gameplay function\n",
    "\n",
    "# Loop through simulate_gameplay function 10000 times saving the results in list\n",
    "results = []\n",
    "for i in range(10000):\n",
    "    result = simulate_gameplay()\n",
    "    results.append(result)"
   ]
  },
  {
   "cell_type": "code",
   "execution_count": 7,
   "metadata": {},
   "outputs": [],
   "source": [
    "# Create a dataframe from results\n",
    "df = pd.DataFrame(results, columns=['s5', 's10', 's15', 's20', 'winner', 'pot'])"
   ]
  },
  {
   "cell_type": "code",
   "execution_count": 8,
   "metadata": {},
   "outputs": [
    {
     "data": {
      "text/html": [
       "<div>\n",
       "<style scoped>\n",
       "    .dataframe tbody tr th:only-of-type {\n",
       "        vertical-align: middle;\n",
       "    }\n",
       "\n",
       "    .dataframe tbody tr th {\n",
       "        vertical-align: top;\n",
       "    }\n",
       "\n",
       "    .dataframe thead th {\n",
       "        text-align: right;\n",
       "    }\n",
       "</style>\n",
       "<table border=\"1\" class=\"dataframe\">\n",
       "  <thead>\n",
       "    <tr style=\"text-align: right;\">\n",
       "      <th></th>\n",
       "      <th>s5</th>\n",
       "      <th>s10</th>\n",
       "      <th>s15</th>\n",
       "      <th>s20</th>\n",
       "      <th>winner</th>\n",
       "      <th>pot</th>\n",
       "    </tr>\n",
       "  </thead>\n",
       "  <tbody>\n",
       "    <tr>\n",
       "      <th>0</th>\n",
       "      <td>9</td>\n",
       "      <td>6</td>\n",
       "      <td>8</td>\n",
       "      <td>7</td>\n",
       "      <td>10</td>\n",
       "      <td>7.30</td>\n",
       "    </tr>\n",
       "    <tr>\n",
       "      <th>1</th>\n",
       "      <td>6</td>\n",
       "      <td>7</td>\n",
       "      <td>10</td>\n",
       "      <td>8</td>\n",
       "      <td>11</td>\n",
       "      <td>10.40</td>\n",
       "    </tr>\n",
       "    <tr>\n",
       "      <th>2</th>\n",
       "      <td>7</td>\n",
       "      <td>6</td>\n",
       "      <td>11</td>\n",
       "      <td>2</td>\n",
       "      <td>8</td>\n",
       "      <td>3.15</td>\n",
       "    </tr>\n",
       "    <tr>\n",
       "      <th>3</th>\n",
       "      <td>10</td>\n",
       "      <td>4</td>\n",
       "      <td>12</td>\n",
       "      <td>8</td>\n",
       "      <td>9</td>\n",
       "      <td>4.25</td>\n",
       "    </tr>\n",
       "    <tr>\n",
       "      <th>4</th>\n",
       "      <td>4</td>\n",
       "      <td>3</td>\n",
       "      <td>7</td>\n",
       "      <td>12</td>\n",
       "      <td>10</td>\n",
       "      <td>3.05</td>\n",
       "    </tr>\n",
       "  </tbody>\n",
       "</table>\n",
       "</div>"
      ],
      "text/plain": [
       "   s5  s10  s15  s20  winner    pot\n",
       "0   9    6    8    7      10   7.30\n",
       "1   6    7   10    8      11  10.40\n",
       "2   7    6   11    2       8   3.15\n",
       "3  10    4   12    8       9   4.25\n",
       "4   4    3    7   12      10   3.05"
      ]
     },
     "execution_count": 8,
     "metadata": {},
     "output_type": "execute_result"
    }
   ],
   "source": [
    "# View first few lines of df\n",
    "df.head()"
   ]
  },
  {
   "cell_type": "code",
   "execution_count": 15,
   "metadata": {},
   "outputs": [
    {
     "data": {
      "image/png": "[encoded data removed]",
      "text/plain": [
       "<Figure size 432x288 with 1 Axes>"
      ]
     },
     "metadata": {
      "needs_background": "light"
     },
     "output_type": "display_data"
    }
   ],
   "source": [
    "# Graph barplot of chance of winner for each horse\n",
    "\n",
    "# Create figure and subplot\n",
    "fig, ax = plt.subplots()\n",
    "\n",
    "# Create barplot of chance of winner for each horse\n",
    "p1 = ax.bar(df['winner'].value_counts(normalize = True).index, \n",
    "            df['winner'].value_counts(normalize = True).values*100)\n",
    "\n",
    "# Set x-ticks so that a label appears for each horse\n",
    "ax.set_xticks(range(2, 13))\n",
    "\n",
    "# Add labels on top of the bars with chance of winning rounded to 1 decimal\n",
    "ax.bar_label(p1, fontsize=8, padding = 1, fmt = '%.1f', color = '#2e3945')\n",
    "\n",
    "# Add x and y axis labels\n",
    "ax.set_xlabel('Horse ID', fontsize = 14)\n",
    "ax.set_ylabel('Chance of Winning (%)', fontsize = 14)\n",
    "\n",
    "# Remove top and right border\n",
    "ax.spines['top'].set_visible(False)\n",
    "ax.spines['right'].set_visible(False)\n",
    "\n",
    "# Set axes colour and width\n",
    "plt.rcParams['axes.edgecolor']='#2e3945'\n",
    "plt.rcParams['axes.linewidth']=0.8\n",
    "plt.rcParams['xtick.color']='#2e3945'\n",
    "plt.rcParams['ytick.color']='#2e3945'\n",
    "\n",
    "# Show plot\n",
    "plt.show();"
   ]
  },
  {
   "cell_type": "code",
   "execution_count": 16,
   "metadata": {},
   "outputs": [
    {
     "data": {
      "image/png": "[encoded data removed]",
      "text/plain": [
       "<Figure size 432x288 with 1 Axes>"
      ]
     },
     "metadata": {
      "needs_background": "light"
     },
     "output_type": "display_data"
    }
   ],
   "source": [
    "# Graph histogram of pot sizes\n",
    "\n",
    "# Create figure and subplot\n",
    "fig, ax = plt.subplots()\n",
    "\n",
    "# Create histogram of pot sizes\n",
    "ax.hist(df['pot'], bins = 30)\n",
    "\n",
    "# Add x and y axis labels\n",
    "ax.set_xlabel('Size of Pot ($)', fontsize = 14)\n",
    "ax.set_ylabel('Frequency', fontsize = 14)\n",
    "\n",
    "# Remove top and right border\n",
    "ax.spines['top'].set_visible(False)\n",
    "ax.spines['right'].set_visible(False)\n",
    "\n",
    "# Set axes colour and width\n",
    "plt.rcParams['axes.edgecolor']='#2e3945'\n",
    "plt.rcParams['axes.linewidth']=0.8\n",
    "plt.rcParams['xtick.color']='#2e3945'\n",
    "plt.rcParams['ytick.color']='#2e3945'\n",
    "\n",
    "# Show plot\n",
    "plt.show();"
   ]
  },
  {
   "cell_type": "code",
   "execution_count": 10,
   "metadata": {},
   "outputs": [
    {
     "data": {
      "text/plain": [
       "count    10000.000000\n",
       "mean         4.949060\n",
       "std          1.214795\n",
       "min          2.300000\n",
       "25%          4.050000\n",
       "50%          4.800000\n",
       "75%          5.700000\n",
       "max         12.700000\n",
       "Name: pot, dtype: float64"
      ]
     },
     "execution_count": 10,
     "metadata": {},
     "output_type": "execute_result"
    }
   ],
   "source": [
    "# Calculate summary statistics for pot column\n",
    "df['pot'].describe()"
   ]
  },
  {
   "cell_type": "code",
   "execution_count": 40,
   "metadata": {},
   "outputs": [
    {
     "data": {
      "image/png": "[encoded data removed]",
      "text/plain": [
       "<Figure size 1080x288 with 4 Axes>"
      ]
     },
     "metadata": {
      "needs_background": "light"
     },
     "output_type": "display_data"
    }
   ],
   "source": [
    "# Graph histograms of the changes of each horse being chosen for each progressive scratch\n",
    "\n",
    "# Set up a figure with 4 subplots horizontally\n",
    "fig, axes = plt.subplots(1, 4, figsize = (15, 4), sharey=True)\n",
    "\n",
    "# Loop through each subplot...\n",
    "for (i, ax), label in zip(enumerate(axes), [5, 10, 15, 20]):\n",
    "    \n",
    "    # Create a normalized barplot for each scratch \n",
    "    p = ax.bar(df['s' + str(label)].value_counts(normalize = True).index, \n",
    "            df['s' + str(label)].value_counts(normalize = True).values*100)\n",
    "    \n",
    "    # Add labels for each bar with their chance of winning value on top\n",
    "    ax.bar_label(p, fontsize=7.5, padding = 1, fmt = '%.1f', color = '#586675')\n",
    "    \n",
    "    # Add a title to each subplot with the monetary value of each scratch\n",
    "    ax.set_title(str(label) + ' cents', fontsize = 10, color = '#586675')\n",
    "    \n",
    "    # Set x-ticks so that a label appears for each horse\n",
    "    ax.set_xticks(range(2, 13))\n",
    "    \n",
    "    # Remove top and right border\n",
    "    ax.spines['top'].set_visible(False)\n",
    "    ax.spines['right'].set_visible(False)\n",
    "\n",
    "# Add x and y axis labels\n",
    "axes[0].set_ylabel('Chance of Winning (%)', fontsize = 14)\n",
    "fig.text(0.5, -0.03, 'Horse ID', ha='center', fontsize = 14)\n",
    "\n",
    "# Set axes colour and width\n",
    "plt.rcParams['axes.edgecolor']='#2e3945'\n",
    "plt.rcParams['axes.linewidth']=0.8\n",
    "plt.rcParams['xtick.color']='#2e3945'\n",
    "plt.rcParams['ytick.color']='#2e3945'\n",
    "\n",
    "# Use tight layout to reduce space between each subplot\n",
    "fig.tight_layout(w_pad=2)\n",
    "\n",
    "# Show plot\n",
    "plt.show();"
   ]
  },
  {
   "cell_type": "code",
   "execution_count": null,
   "metadata": {},
   "outputs": [],
   "source": []
  }
 ],
 "metadata": {
  "kernelspec": {
   "display_name": "Python 3",
   "language": "python",
   "name": "python3"
  },
  "language_info": {
   "codemirror_mode": {
    "name": "ipython",
    "version": 3
   },
   "file_extension": ".py",
   "mimetype": "text/x-python",
   "name": "python",
   "nbconvert_exporter": "python",
   "pygments_lexer": "ipython3",
   "version": "3.8.5"
  }
 },
 "nbformat": 4,
 "nbformat_minor": 4
}
