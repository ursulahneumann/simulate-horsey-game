{
 "cells": [
  {
   "cell_type": "code",
   "execution_count": 1,
   "metadata": {},
   "outputs": [],
   "source": [
    "# Import statements\n",
    "import numpy as np\n",
    "import pandas as pd\n",
    "from random import randint\n",
    "import matplotlib.pyplot as plt"
   ]
  },
  {
   "cell_type": "code",
   "execution_count": 2,
   "metadata": {},
   "outputs": [],
   "source": [
    "def simulate_scratches():\n",
    "    '''Simulate choosing of scratches, 4 unique values that are the result of the sum of 2 dice'''\n",
    "    \n",
    "    # Define keys to be the scratches for 5/10/15/20 cents\n",
    "    keys = [0.05, 0.10, 0.15, 0.20]\n",
    "    \n",
    "    # Create empty list of values to be populated below\n",
    "    values = []\n",
    "    \n",
    "    # While the length of values is less than 4...\n",
    "    while len(values) < 4:\n",
    "        # Simulate rollowing of 2 dice and taking sum\n",
    "        dice = np.random.randint(low = 1, high = 7, size = 2).sum()\n",
    "        # If the summed value is not already in values, append it to the list\n",
    "        if dice not in values:\n",
    "            values.append(dice)\n",
    "    \n",
    "    # Create scratches dictionary\n",
    "    scratches = dict(zip(keys, values))   \n",
    "    \n",
    "    # Print scratches dictionary\n",
    "    print(f\"Scratches are {scratches}\")\n",
    "    return(scratches)"
   ]
  },
  {
   "cell_type": "code",
   "execution_count": 3,
   "metadata": {},
   "outputs": [
    {
     "name": "stdout",
     "output_type": "stream",
     "text": [
      "Scratches are {0.05: 4, 0.1: 7, 0.15: 9, 0.2: 8}\n"
     ]
    }
   ],
   "source": [
    "# Test simulate scratches function\n",
    "scratches = simulate_scratches()"
   ]
  },
  {
   "cell_type": "code",
   "execution_count": 4,
   "metadata": {},
   "outputs": [],
   "source": [
    "def simulate_gameplay():\n",
    "    '''docstring'''\n",
    "    \n",
    "    # Set up racetrack with all horses starting at 0\n",
    "    racetrack = {i:0 for i in range(2,13)}\n",
    "    \n",
    "    # Simulate scratches\n",
    "    scratches = simulate_scratches()\n",
    "    \n",
    "    # Scratches in hand pay into pot (assuming all cards dealt even if uneven between players)\n",
    "    pot = 0.05*4 + 0.10*4 + 0.15*4 + 0.20*4\n",
    "    \n",
    "    keys = range(2,13)\n",
    "    values = [6, 7, 8, 9, 10, 11, 10, 9, 8, 7, 6]\n",
    "    finish_line = dict(zip(keys, values))\n",
    "    \n",
    "    while True:\n",
    "        # Roll dice\n",
    "        dice = np.random.randint(low = 1, high = 7, size = 2).sum()\n",
    "        print(f\"Roll is {dice}.\")\n",
    "\n",
    "        # If roll is one of the scraches pay into the pot\n",
    "        if dice in scratches.values():\n",
    "            pot += float(list(scratches.keys())[list(scratches.values()).index(dice)])\n",
    "            print(f\"Pot increases to {round(pot, 2)}\")\n",
    "        else:\n",
    "            racetrack[dice] += 1\n",
    "            print(f\"Racetrack moves {racetrack}\")\n",
    "            if racetrack[dice] == finish_line[dice]:\n",
    "                winner = dice\n",
    "                print(f\"The winner is {winner}\")\n",
    "                break\n",
    "                \n",
    "    return(scratches, winner, round(pot, 2))"
   ]
  },
  {
   "cell_type": "code",
   "execution_count": 5,
   "metadata": {},
   "outputs": [
    {
     "name": "stdout",
     "output_type": "stream",
     "text": [
      "Scratches are {0.05: 8, 0.1: 11, 0.15: 7, 0.2: 2}\n",
      "Roll is 7.\n",
      "Pot increases to 2.15\n",
      "Roll is 10.\n",
      "Racetrack moves {2: 0, 3: 0, 4: 0, 5: 0, 6: 0, 7: 0, 8: 0, 9: 0, 10: 1, 11: 0, 12: 0}\n",
      "Roll is 9.\n",
      "Racetrack moves {2: 0, 3: 0, 4: 0, 5: 0, 6: 0, 7: 0, 8: 0, 9: 1, 10: 1, 11: 0, 12: 0}\n",
      "Roll is 5.\n",
      "Racetrack moves {2: 0, 3: 0, 4: 0, 5: 1, 6: 0, 7: 0, 8: 0, 9: 1, 10: 1, 11: 0, 12: 0}\n",
      "Roll is 5.\n",
      "Racetrack moves {2: 0, 3: 0, 4: 0, 5: 2, 6: 0, 7: 0, 8: 0, 9: 1, 10: 1, 11: 0, 12: 0}\n",
      "Roll is 3.\n",
      "Racetrack moves {2: 0, 3: 1, 4: 0, 5: 2, 6: 0, 7: 0, 8: 0, 9: 1, 10: 1, 11: 0, 12: 0}\n",
      "Roll is 6.\n",
      "Racetrack moves {2: 0, 3: 1, 4: 0, 5: 2, 6: 1, 7: 0, 8: 0, 9: 1, 10: 1, 11: 0, 12: 0}\n",
      "Roll is 11.\n",
      "Pot increases to 2.25\n",
      "Roll is 8.\n",
      "Pot increases to 2.3\n",
      "Roll is 10.\n",
      "Racetrack moves {2: 0, 3: 1, 4: 0, 5: 2, 6: 1, 7: 0, 8: 0, 9: 1, 10: 2, 11: 0, 12: 0}\n",
      "Roll is 9.\n",
      "Racetrack moves {2: 0, 3: 1, 4: 0, 5: 2, 6: 1, 7: 0, 8: 0, 9: 2, 10: 2, 11: 0, 12: 0}\n",
      "Roll is 6.\n",
      "Racetrack moves {2: 0, 3: 1, 4: 0, 5: 2, 6: 2, 7: 0, 8: 0, 9: 2, 10: 2, 11: 0, 12: 0}\n",
      "Roll is 7.\n",
      "Pot increases to 2.45\n",
      "Roll is 5.\n",
      "Racetrack moves {2: 0, 3: 1, 4: 0, 5: 3, 6: 2, 7: 0, 8: 0, 9: 2, 10: 2, 11: 0, 12: 0}\n",
      "Roll is 9.\n",
      "Racetrack moves {2: 0, 3: 1, 4: 0, 5: 3, 6: 2, 7: 0, 8: 0, 9: 3, 10: 2, 11: 0, 12: 0}\n",
      "Roll is 5.\n",
      "Racetrack moves {2: 0, 3: 1, 4: 0, 5: 4, 6: 2, 7: 0, 8: 0, 9: 3, 10: 2, 11: 0, 12: 0}\n",
      "Roll is 7.\n",
      "Pot increases to 2.6\n",
      "Roll is 7.\n",
      "Pot increases to 2.75\n",
      "Roll is 7.\n",
      "Pot increases to 2.9\n",
      "Roll is 3.\n",
      "Racetrack moves {2: 0, 3: 2, 4: 0, 5: 4, 6: 2, 7: 0, 8: 0, 9: 3, 10: 2, 11: 0, 12: 0}\n",
      "Roll is 4.\n",
      "Racetrack moves {2: 0, 3: 2, 4: 1, 5: 4, 6: 2, 7: 0, 8: 0, 9: 3, 10: 2, 11: 0, 12: 0}\n",
      "Roll is 9.\n",
      "Racetrack moves {2: 0, 3: 2, 4: 1, 5: 4, 6: 2, 7: 0, 8: 0, 9: 4, 10: 2, 11: 0, 12: 0}\n",
      "Roll is 10.\n",
      "Racetrack moves {2: 0, 3: 2, 4: 1, 5: 4, 6: 2, 7: 0, 8: 0, 9: 4, 10: 3, 11: 0, 12: 0}\n",
      "Roll is 5.\n",
      "Racetrack moves {2: 0, 3: 2, 4: 1, 5: 5, 6: 2, 7: 0, 8: 0, 9: 4, 10: 3, 11: 0, 12: 0}\n",
      "Roll is 6.\n",
      "Racetrack moves {2: 0, 3: 2, 4: 1, 5: 5, 6: 3, 7: 0, 8: 0, 9: 4, 10: 3, 11: 0, 12: 0}\n",
      "Roll is 3.\n",
      "Racetrack moves {2: 0, 3: 3, 4: 1, 5: 5, 6: 3, 7: 0, 8: 0, 9: 4, 10: 3, 11: 0, 12: 0}\n",
      "Roll is 5.\n",
      "Racetrack moves {2: 0, 3: 3, 4: 1, 5: 6, 6: 3, 7: 0, 8: 0, 9: 4, 10: 3, 11: 0, 12: 0}\n",
      "Roll is 7.\n",
      "Pot increases to 3.05\n",
      "Roll is 6.\n",
      "Racetrack moves {2: 0, 3: 3, 4: 1, 5: 6, 6: 4, 7: 0, 8: 0, 9: 4, 10: 3, 11: 0, 12: 0}\n",
      "Roll is 5.\n",
      "Racetrack moves {2: 0, 3: 3, 4: 1, 5: 7, 6: 4, 7: 0, 8: 0, 9: 4, 10: 3, 11: 0, 12: 0}\n",
      "Roll is 9.\n",
      "Racetrack moves {2: 0, 3: 3, 4: 1, 5: 7, 6: 4, 7: 0, 8: 0, 9: 5, 10: 3, 11: 0, 12: 0}\n",
      "Roll is 5.\n",
      "Racetrack moves {2: 0, 3: 3, 4: 1, 5: 8, 6: 4, 7: 0, 8: 0, 9: 5, 10: 3, 11: 0, 12: 0}\n",
      "Roll is 9.\n",
      "Racetrack moves {2: 0, 3: 3, 4: 1, 5: 8, 6: 4, 7: 0, 8: 0, 9: 6, 10: 3, 11: 0, 12: 0}\n",
      "Roll is 8.\n",
      "Pot increases to 3.1\n",
      "Roll is 11.\n",
      "Pot increases to 3.2\n",
      "Roll is 6.\n",
      "Racetrack moves {2: 0, 3: 3, 4: 1, 5: 8, 6: 5, 7: 0, 8: 0, 9: 6, 10: 3, 11: 0, 12: 0}\n",
      "Roll is 6.\n",
      "Racetrack moves {2: 0, 3: 3, 4: 1, 5: 8, 6: 6, 7: 0, 8: 0, 9: 6, 10: 3, 11: 0, 12: 0}\n",
      "Roll is 8.\n",
      "Pot increases to 3.25\n",
      "Roll is 5.\n",
      "Racetrack moves {2: 0, 3: 3, 4: 1, 5: 9, 6: 6, 7: 0, 8: 0, 9: 6, 10: 3, 11: 0, 12: 0}\n",
      "The winner is 5\n"
     ]
    },
    {
     "data": {
      "text/plain": [
       "({0.05: 8, 0.1: 11, 0.15: 7, 0.2: 2}, 5, 3.25)"
      ]
     },
     "execution_count": 5,
     "metadata": {},
     "output_type": "execute_result"
    }
   ],
   "source": [
    "simulate_gameplay()"
   ]
  },
  {
   "cell_type": "code",
   "execution_count": 36,
   "metadata": {},
   "outputs": [],
   "source": [
    "%%capture\n",
    "\n",
    "# Loop through simulate_gameplay function 10000 times saving the results in list\n",
    "results = []\n",
    "for i in range(10000):\n",
    "    result = simulate_gameplay()\n",
    "    results.append(result)"
   ]
  },
  {
   "cell_type": "code",
   "execution_count": 7,
   "metadata": {},
   "outputs": [],
   "source": [
    "# Create a dataframe from results\n",
    "df = pd.DataFrame(results, columns=['scratches', 'winner', 'pot'])"
   ]
  },
  {
   "cell_type": "code",
   "execution_count": 8,
   "metadata": {},
   "outputs": [
    {
     "data": {
      "text/html": [
       "<div>\n",
       "<style scoped>\n",
       "    .dataframe tbody tr th:only-of-type {\n",
       "        vertical-align: middle;\n",
       "    }\n",
       "\n",
       "    .dataframe tbody tr th {\n",
       "        vertical-align: top;\n",
       "    }\n",
       "\n",
       "    .dataframe thead th {\n",
       "        text-align: right;\n",
       "    }\n",
       "</style>\n",
       "<table border=\"1\" class=\"dataframe\">\n",
       "  <thead>\n",
       "    <tr style=\"text-align: right;\">\n",
       "      <th></th>\n",
       "      <th>scratches</th>\n",
       "      <th>winner</th>\n",
       "      <th>pot</th>\n",
       "    </tr>\n",
       "  </thead>\n",
       "  <tbody>\n",
       "    <tr>\n",
       "      <th>0</th>\n",
       "      <td>{0.05: 4, 0.1: 12, 0.15: 5, 0.2: 9}</td>\n",
       "      <td>8</td>\n",
       "      <td>5.10</td>\n",
       "    </tr>\n",
       "    <tr>\n",
       "      <th>1</th>\n",
       "      <td>{0.05: 8, 0.1: 5, 0.15: 12, 0.2: 9}</td>\n",
       "      <td>6</td>\n",
       "      <td>4.45</td>\n",
       "    </tr>\n",
       "    <tr>\n",
       "      <th>2</th>\n",
       "      <td>{0.05: 11, 0.1: 9, 0.15: 7, 0.2: 6}</td>\n",
       "      <td>5</td>\n",
       "      <td>6.00</td>\n",
       "    </tr>\n",
       "    <tr>\n",
       "      <th>3</th>\n",
       "      <td>{0.05: 5, 0.1: 11, 0.15: 4, 0.2: 8}</td>\n",
       "      <td>6</td>\n",
       "      <td>5.70</td>\n",
       "    </tr>\n",
       "    <tr>\n",
       "      <th>4</th>\n",
       "      <td>{0.05: 7, 0.1: 6, 0.15: 5, 0.2: 12}</td>\n",
       "      <td>11</td>\n",
       "      <td>2.60</td>\n",
       "    </tr>\n",
       "  </tbody>\n",
       "</table>\n",
       "</div>"
      ],
      "text/plain": [
       "                             scratches  winner   pot\n",
       "0  {0.05: 4, 0.1: 12, 0.15: 5, 0.2: 9}       8  5.10\n",
       "1  {0.05: 8, 0.1: 5, 0.15: 12, 0.2: 9}       6  4.45\n",
       "2  {0.05: 11, 0.1: 9, 0.15: 7, 0.2: 6}       5  6.00\n",
       "3  {0.05: 5, 0.1: 11, 0.15: 4, 0.2: 8}       6  5.70\n",
       "4  {0.05: 7, 0.1: 6, 0.15: 5, 0.2: 12}      11  2.60"
      ]
     },
     "execution_count": 8,
     "metadata": {},
     "output_type": "execute_result"
    }
   ],
   "source": [
    "# View first few lines of df\n",
    "df.head()"
   ]
  },
  {
   "cell_type": "code",
   "execution_count": 38,
   "metadata": {},
   "outputs": [
    {
     "data": {
      "text/plain": [
       "count    10000.000000\n",
       "mean         7.009300\n",
       "std          2.137819\n",
       "min          2.000000\n",
       "25%          5.000000\n",
       "50%          7.000000\n",
       "75%          9.000000\n",
       "max         12.000000\n",
       "Name: winner, dtype: float64"
      ]
     },
     "execution_count": 38,
     "metadata": {},
     "output_type": "execute_result"
    }
   ],
   "source": [
    "df['winner'].describe()"
   ]
  },
  {
   "cell_type": "code",
   "execution_count": 37,
   "metadata": {},
   "outputs": [
    {
     "data": {
      "text/plain": [
       "count    10000.000000\n",
       "mean         4.945295\n",
       "std          1.212316\n",
       "min          2.250000\n",
       "25%          4.100000\n",
       "50%          4.800000\n",
       "75%          5.650000\n",
       "max         11.150000\n",
       "Name: pot, dtype: float64"
      ]
     },
     "execution_count": 37,
     "metadata": {},
     "output_type": "execute_result"
    }
   ],
   "source": [
    "df['pot'].describe()"
   ]
  },
  {
   "cell_type": "code",
   "execution_count": 15,
   "metadata": {},
   "outputs": [
    {
     "data": {
      "image/png": "[encoded data removed]",
      "text/plain": [
       "<Figure size 432x288 with 1 Axes>"
      ]
     },
     "metadata": {
      "needs_background": "light"
     },
     "output_type": "display_data"
    }
   ],
   "source": [
    "# Graph barplot of chance of winner for each horse\n",
    "\n",
    "# Create figure and subplot\n",
    "fig, ax = plt.subplots()\n",
    "\n",
    "# Create barplot of chance of winner for each horse\n",
    "ax.bar(df['winner'].value_counts(normalize = True).index, \n",
    "            df['winner'].value_counts(normalize = True).values*100)\n",
    "\n",
    "# Set x-ticks so that a label appears for each horse\n",
    "ax.set_xticks(range(2, 13))\n",
    "\n",
    "# Add labels on top of the bars with chance of winning rounded to 1 decimal\n",
    "ax.bar_label(p1, fontsize=8, padding = 1, fmt = '%.1f', color = '#2e3945')\n",
    "\n",
    "# Add x and y axis labels\n",
    "ax.set_xlabel('Horse ID', fontsize = 14)\n",
    "ax.set_ylabel('Chance of Winning (%)', fontsize = 14)\n",
    "\n",
    "# Remove top and right border\n",
    "ax.spines['top'].set_visible(False)\n",
    "ax.spines['right'].set_visible(False)\n",
    "\n",
    "# Set axes colour and width\n",
    "plt.rcParams['axes.edgecolor']='#2e3945'\n",
    "plt.rcParams['axes.linewidth']=0.8\n",
    "plt.rcParams['xtick.color']='#2e3945'\n",
    "plt.rcParams['ytick.color']='#2e3945'\n",
    "\n",
    "# Show plot\n",
    "plt.show();"
   ]
  },
  {
   "cell_type": "code",
   "execution_count": 33,
   "metadata": {},
   "outputs": [
    {
     "data": {
      "image/png": "[encoded data removed]",
      "text/plain": [
       "<Figure size 432x288 with 1 Axes>"
      ]
     },
     "metadata": {
      "needs_background": "light"
     },
     "output_type": "display_data"
    }
   ],
   "source": [
    "# Graph histogram of pot sizes\n",
    "\n",
    "# Create figure and subplot\n",
    "fig, ax = plt.subplots()\n",
    "\n",
    "# Create histogram of pot sizes\n",
    "ax.hist(df['pot'], bins = 30)\n",
    "\n",
    "# Add x and y axis labels\n",
    "ax.set_xlabel('Size of Pot ($)', fontsize = 14)\n",
    "ax.set_ylabel('Frequency', fontsize = 14)\n",
    "\n",
    "# Remove top and right border\n",
    "ax.spines['top'].set_visible(False)\n",
    "ax.spines['right'].set_visible(False)\n",
    "\n",
    "# Set axes colour and width\n",
    "plt.rcParams['axes.edgecolor']='#2e3945'\n",
    "plt.rcParams['axes.linewidth']=0.8\n",
    "plt.rcParams['xtick.color']='#2e3945'\n",
    "plt.rcParams['ytick.color']='#2e3945'\n",
    "\n",
    "# Show plot\n",
    "plt.show();"
   ]
  },
  {
   "cell_type": "code",
   "execution_count": 34,
   "metadata": {},
   "outputs": [
    {
     "data": {
      "text/plain": [
       "count    10000.000000\n",
       "mean         4.945295\n",
       "std          1.212316\n",
       "min          2.250000\n",
       "25%          4.100000\n",
       "50%          4.800000\n",
       "75%          5.650000\n",
       "max         11.150000\n",
       "Name: pot, dtype: float64"
      ]
     },
     "execution_count": 34,
     "metadata": {},
     "output_type": "execute_result"
    }
   ],
   "source": []
  }
 ],
 "metadata": {
  "kernelspec": {
   "display_name": "Python 3",
   "language": "python",
   "name": "python3"
  },
  "language_info": {
   "codemirror_mode": {
    "name": "ipython",
    "version": 3
   },
   "file_extension": ".py",
   "mimetype": "text/x-python",
   "name": "python",
   "nbconvert_exporter": "python",
   "pygments_lexer": "ipython3",
   "version": "3.8.5"
  }
 },
 "nbformat": 4,
 "nbformat_minor": 4
}
