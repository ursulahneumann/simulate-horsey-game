{
 "cells": [
  {
   "cell_type": "code",
   "execution_count": 36,
   "metadata": {},
   "outputs": [],
   "source": [
    "# Import statements\n",
    "import numpy as np\n",
    "import pandas as pd\n",
    "from random import randint"
   ]
  },
  {
   "cell_type": "code",
   "execution_count": 2,
   "metadata": {},
   "outputs": [],
   "source": [
    "def simulate_scratches():\n",
    "    '''Simulate choosing of scratches, 4 unique values that are the result of the sum of 2 dice'''\n",
    "    \n",
    "    # Define keys to be the scratches for 5/10/15/20 cents\n",
    "    keys = [0.05, 0.10, 0.15, 0.20]\n",
    "    \n",
    "    # Create empty list of values to be populated below\n",
    "    values = []\n",
    "    \n",
    "    # While the length of values is less than 4...\n",
    "    while len(values) < 4:\n",
    "        # Simulate rollowing of 2 dice and taking sum\n",
    "        dice = np.random.randint(low = 1, high = 7, size = 2).sum()\n",
    "        # If the summed value is not already in values, append it to the list\n",
    "        if dice not in values:\n",
    "            values.append(dice)\n",
    "    \n",
    "    # Create scratches dictionary\n",
    "    scratches = dict(zip(keys, values))   \n",
    "    \n",
    "    # Print scratches dictionary\n",
    "    print(f\"Scratches are {scratches}\")\n",
    "    return(scratches)"
   ]
  },
  {
   "cell_type": "code",
   "execution_count": 3,
   "metadata": {},
   "outputs": [
    {
     "name": "stdout",
     "output_type": "stream",
     "text": [
      "Scratches are {0.05: 11, 0.1: 10, 0.15: 8, 0.2: 6}\n"
     ]
    }
   ],
   "source": [
    "# Test simulate scratches function\n",
    "scratches = simulate_scratches()"
   ]
  },
  {
   "cell_type": "code",
   "execution_count": 33,
   "metadata": {},
   "outputs": [],
   "source": [
    "def simulate_gameplay():\n",
    "    '''docstring'''\n",
    "    \n",
    "    # Set up racetrack with all horses starting at 0\n",
    "    racetrack = {i:0 for i in range(2,13)}\n",
    "    \n",
    "    # Simulate scratches\n",
    "    scratches = simulate_scratches()\n",
    "    \n",
    "    # Scratches in hand pay into pot (assuming all cards dealt even if uneven between players)\n",
    "    pot = 0.05*4 + 0.10*4 + 0.15*4 + 0.20*4\n",
    "    \n",
    "    keys = range(2,13)\n",
    "    values = [6, 7, 8, 9, 10, 11, 10, 9, 8, 7, 6]\n",
    "    finish_line = dict(zip(keys, values))\n",
    "    \n",
    "    while True:\n",
    "        # Roll dice\n",
    "        dice = np.random.randint(low = 1, high = 7, size = 2).sum()\n",
    "        print(f\"Roll is {dice}.\")\n",
    "\n",
    "        # If roll is one of the scraches pay into the pot\n",
    "        if dice in scratches.values():\n",
    "            pot += float(list(scratches.keys())[list(scratches.values()).index(dice)])\n",
    "            print(f\"Pot increases to {round(pot, 2)}\")\n",
    "        else:\n",
    "            racetrack[dice] += 1\n",
    "            print(f\"Racetrack moves {racetrack}\")\n",
    "            if racetrack[dice] == finish_line[dice]:\n",
    "                winner = dice\n",
    "                print(f\"The winner is {winner}\")\n",
    "                break\n",
    "                \n",
    "    return(scratches, winner, round(pot, 2))"
   ]
  },
  {
   "cell_type": "code",
   "execution_count": 34,
   "metadata": {},
   "outputs": [
    {
     "name": "stdout",
     "output_type": "stream",
     "text": [
      "Scratches are {0.05: 6, 0.1: 5, 0.15: 8, 0.2: 7}\n",
      "Roll is 10.\n",
      "Racetrack moves {2: 0, 3: 0, 4: 0, 5: 0, 6: 0, 7: 0, 8: 0, 9: 0, 10: 1, 11: 0, 12: 0}\n",
      "Roll is 5.\n",
      "Pot increases to 2.1\n",
      "Roll is 8.\n",
      "Pot increases to 2.25\n",
      "Roll is 8.\n",
      "Pot increases to 2.4\n",
      "Roll is 10.\n",
      "Racetrack moves {2: 0, 3: 0, 4: 0, 5: 0, 6: 0, 7: 0, 8: 0, 9: 0, 10: 2, 11: 0, 12: 0}\n",
      "Roll is 10.\n",
      "Racetrack moves {2: 0, 3: 0, 4: 0, 5: 0, 6: 0, 7: 0, 8: 0, 9: 0, 10: 3, 11: 0, 12: 0}\n",
      "Roll is 6.\n",
      "Pot increases to 2.45\n",
      "Roll is 8.\n",
      "Pot increases to 2.6\n",
      "Roll is 5.\n",
      "Pot increases to 2.7\n",
      "Roll is 12.\n",
      "Racetrack moves {2: 0, 3: 0, 4: 0, 5: 0, 6: 0, 7: 0, 8: 0, 9: 0, 10: 3, 11: 0, 12: 1}\n",
      "Roll is 4.\n",
      "Racetrack moves {2: 0, 3: 0, 4: 1, 5: 0, 6: 0, 7: 0, 8: 0, 9: 0, 10: 3, 11: 0, 12: 1}\n",
      "Roll is 5.\n",
      "Pot increases to 2.8\n",
      "Roll is 9.\n",
      "Racetrack moves {2: 0, 3: 0, 4: 1, 5: 0, 6: 0, 7: 0, 8: 0, 9: 1, 10: 3, 11: 0, 12: 1}\n",
      "Roll is 6.\n",
      "Pot increases to 2.85\n",
      "Roll is 7.\n",
      "Pot increases to 3.05\n",
      "Roll is 5.\n",
      "Pot increases to 3.15\n",
      "Roll is 11.\n",
      "Racetrack moves {2: 0, 3: 0, 4: 1, 5: 0, 6: 0, 7: 0, 8: 0, 9: 1, 10: 3, 11: 1, 12: 1}\n",
      "Roll is 9.\n",
      "Racetrack moves {2: 0, 3: 0, 4: 1, 5: 0, 6: 0, 7: 0, 8: 0, 9: 2, 10: 3, 11: 1, 12: 1}\n",
      "Roll is 6.\n",
      "Pot increases to 3.2\n",
      "Roll is 6.\n",
      "Pot increases to 3.25\n",
      "Roll is 12.\n",
      "Racetrack moves {2: 0, 3: 0, 4: 1, 5: 0, 6: 0, 7: 0, 8: 0, 9: 2, 10: 3, 11: 1, 12: 2}\n",
      "Roll is 6.\n",
      "Pot increases to 3.3\n",
      "Roll is 2.\n",
      "Racetrack moves {2: 1, 3: 0, 4: 1, 5: 0, 6: 0, 7: 0, 8: 0, 9: 2, 10: 3, 11: 1, 12: 2}\n",
      "Roll is 12.\n",
      "Racetrack moves {2: 1, 3: 0, 4: 1, 5: 0, 6: 0, 7: 0, 8: 0, 9: 2, 10: 3, 11: 1, 12: 3}\n",
      "Roll is 4.\n",
      "Racetrack moves {2: 1, 3: 0, 4: 2, 5: 0, 6: 0, 7: 0, 8: 0, 9: 2, 10: 3, 11: 1, 12: 3}\n",
      "Roll is 8.\n",
      "Pot increases to 3.45\n",
      "Roll is 7.\n",
      "Pot increases to 3.65\n",
      "Roll is 9.\n",
      "Racetrack moves {2: 1, 3: 0, 4: 2, 5: 0, 6: 0, 7: 0, 8: 0, 9: 3, 10: 3, 11: 1, 12: 3}\n",
      "Roll is 10.\n",
      "Racetrack moves {2: 1, 3: 0, 4: 2, 5: 0, 6: 0, 7: 0, 8: 0, 9: 3, 10: 4, 11: 1, 12: 3}\n",
      "Roll is 3.\n",
      "Racetrack moves {2: 1, 3: 1, 4: 2, 5: 0, 6: 0, 7: 0, 8: 0, 9: 3, 10: 4, 11: 1, 12: 3}\n",
      "Roll is 9.\n",
      "Racetrack moves {2: 1, 3: 1, 4: 2, 5: 0, 6: 0, 7: 0, 8: 0, 9: 4, 10: 4, 11: 1, 12: 3}\n",
      "Roll is 7.\n",
      "Pot increases to 3.85\n",
      "Roll is 10.\n",
      "Racetrack moves {2: 1, 3: 1, 4: 2, 5: 0, 6: 0, 7: 0, 8: 0, 9: 4, 10: 5, 11: 1, 12: 3}\n",
      "Roll is 3.\n",
      "Racetrack moves {2: 1, 3: 2, 4: 2, 5: 0, 6: 0, 7: 0, 8: 0, 9: 4, 10: 5, 11: 1, 12: 3}\n",
      "Roll is 5.\n",
      "Pot increases to 3.95\n",
      "Roll is 2.\n",
      "Racetrack moves {2: 2, 3: 2, 4: 2, 5: 0, 6: 0, 7: 0, 8: 0, 9: 4, 10: 5, 11: 1, 12: 3}\n",
      "Roll is 10.\n",
      "Racetrack moves {2: 2, 3: 2, 4: 2, 5: 0, 6: 0, 7: 0, 8: 0, 9: 4, 10: 6, 11: 1, 12: 3}\n",
      "Roll is 10.\n",
      "Racetrack moves {2: 2, 3: 2, 4: 2, 5: 0, 6: 0, 7: 0, 8: 0, 9: 4, 10: 7, 11: 1, 12: 3}\n",
      "Roll is 9.\n",
      "Racetrack moves {2: 2, 3: 2, 4: 2, 5: 0, 6: 0, 7: 0, 8: 0, 9: 5, 10: 7, 11: 1, 12: 3}\n",
      "Roll is 9.\n",
      "Racetrack moves {2: 2, 3: 2, 4: 2, 5: 0, 6: 0, 7: 0, 8: 0, 9: 6, 10: 7, 11: 1, 12: 3}\n",
      "Roll is 8.\n",
      "Pot increases to 4.1\n",
      "Roll is 2.\n",
      "Racetrack moves {2: 3, 3: 2, 4: 2, 5: 0, 6: 0, 7: 0, 8: 0, 9: 6, 10: 7, 11: 1, 12: 3}\n",
      "Roll is 5.\n",
      "Pot increases to 4.2\n",
      "Roll is 10.\n",
      "Racetrack moves {2: 3, 3: 2, 4: 2, 5: 0, 6: 0, 7: 0, 8: 0, 9: 6, 10: 8, 11: 1, 12: 3}\n",
      "The winner is 10\n"
     ]
    },
    {
     "data": {
      "text/plain": [
       "({0.05: 6, 0.1: 5, 0.15: 8, 0.2: 7}, 10, 4.2)"
      ]
     },
     "execution_count": 34,
     "metadata": {},
     "output_type": "execute_result"
    }
   ],
   "source": [
    "simulate_gameplay()"
   ]
  },
  {
   "cell_type": "code",
   "execution_count": 25,
   "metadata": {},
   "outputs": [],
   "source": [
    "%%capture\n",
    "\n",
    "# Loop through simulate_gameplay function 10000 times saving the results in list\n",
    "results = []\n",
    "for i in range(10000):\n",
    "    result = simulate_gameplay()\n",
    "    results.append(result)"
   ]
  },
  {
   "cell_type": "code",
   "execution_count": 26,
   "metadata": {},
   "outputs": [],
   "source": [
    "# Create a dataframe from results\n",
    "df = pd.DataFrame(results, columns=['scratches', 'winner', 'pot'])"
   ]
  },
  {
   "cell_type": "code",
   "execution_count": 27,
   "metadata": {},
   "outputs": [
    {
     "data": {
      "text/html": [
       "<div>\n",
       "<style scoped>\n",
       "    .dataframe tbody tr th:only-of-type {\n",
       "        vertical-align: middle;\n",
       "    }\n",
       "\n",
       "    .dataframe tbody tr th {\n",
       "        vertical-align: top;\n",
       "    }\n",
       "\n",
       "    .dataframe thead th {\n",
       "        text-align: right;\n",
       "    }\n",
       "</style>\n",
       "<table border=\"1\" class=\"dataframe\">\n",
       "  <thead>\n",
       "    <tr style=\"text-align: right;\">\n",
       "      <th></th>\n",
       "      <th>scratches</th>\n",
       "      <th>winner</th>\n",
       "      <th>pot</th>\n",
       "    </tr>\n",
       "  </thead>\n",
       "  <tbody>\n",
       "    <tr>\n",
       "      <th>0</th>\n",
       "      <td>{0.05: 9, 0.1: 7, 0.15: 6, 0.2: 10}</td>\n",
       "      <td>8</td>\n",
       "      <td>6.05</td>\n",
       "    </tr>\n",
       "    <tr>\n",
       "      <th>1</th>\n",
       "      <td>{0.05: 5, 0.1: 6, 0.15: 2, 0.2: 3}</td>\n",
       "      <td>4</td>\n",
       "      <td>3.15</td>\n",
       "    </tr>\n",
       "    <tr>\n",
       "      <th>2</th>\n",
       "      <td>{0.05: 8, 0.1: 10, 0.15: 9, 0.2: 5}</td>\n",
       "      <td>4</td>\n",
       "      <td>4.10</td>\n",
       "    </tr>\n",
       "    <tr>\n",
       "      <th>3</th>\n",
       "      <td>{0.05: 9, 0.1: 7, 0.15: 12, 0.2: 8}</td>\n",
       "      <td>5</td>\n",
       "      <td>3.85</td>\n",
       "    </tr>\n",
       "    <tr>\n",
       "      <th>4</th>\n",
       "      <td>{0.05: 7, 0.1: 3, 0.15: 4, 0.2: 12}</td>\n",
       "      <td>11</td>\n",
       "      <td>3.25</td>\n",
       "    </tr>\n",
       "  </tbody>\n",
       "</table>\n",
       "</div>"
      ],
      "text/plain": [
       "                             scratches  winner   pot\n",
       "0  {0.05: 9, 0.1: 7, 0.15: 6, 0.2: 10}       8  6.05\n",
       "1   {0.05: 5, 0.1: 6, 0.15: 2, 0.2: 3}       4  3.15\n",
       "2  {0.05: 8, 0.1: 10, 0.15: 9, 0.2: 5}       4  4.10\n",
       "3  {0.05: 9, 0.1: 7, 0.15: 12, 0.2: 8}       5  3.85\n",
       "4  {0.05: 7, 0.1: 3, 0.15: 4, 0.2: 12}      11  3.25"
      ]
     },
     "execution_count": 27,
     "metadata": {},
     "output_type": "execute_result"
    }
   ],
   "source": [
    "# View first few lines of df\n",
    "df.head()"
   ]
  }
 ],
 "metadata": {
  "kernelspec": {
   "display_name": "Python 3",
   "language": "python",
   "name": "python3"
  },
  "language_info": {
   "codemirror_mode": {
    "name": "ipython",
    "version": 3
   },
   "file_extension": ".py",
   "mimetype": "text/x-python",
   "name": "python",
   "nbconvert_exporter": "python",
   "pygments_lexer": "ipython3",
   "version": "3.8.5"
  }
 },
 "nbformat": 4,
 "nbformat_minor": 4
}
